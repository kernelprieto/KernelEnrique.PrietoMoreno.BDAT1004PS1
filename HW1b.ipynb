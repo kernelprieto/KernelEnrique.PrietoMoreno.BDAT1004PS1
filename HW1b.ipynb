{
 "cells": [
  {
   "cell_type": "markdown",
   "id": "666b21c0",
   "metadata": {},
   "source": [
    "This notebook contains the Python problems, i.e., 6-10"
   ]
  },
  {
   "cell_type": "markdown",
   "id": "3fa19a5a",
   "metadata": {},
   "source": [
    "<h3><font color='#004b87'>Question 6</font></h3>\n",
    "<p></p>\n",
    "You can turn a word into pig-Latin using the following two rules (simplified):\n",
    "• If the word starts with a consonant, move that letter to the end and append\n",
    "'ay'. For example, 'happy' becomes 'appyhay' and 'pencil' becomes 'encilpay'.\n",
    "• If the word starts with a vowel, simply append 'way' to the end of the word.\n",
    "For example, 'enter' becomes 'enterway' and 'other' becomes 'otherway' . For\n",
    "our purposes, there are 5 vowels: a, e, i, o, u (so we count y as a consonant).\n",
    "Write a function pig() that takes a word (i.e., a string) as input and returns its pig-\n",
    "Latin form. Your function should still work if the input word contains upper case\n",
    "characters. Your output should always be lower case however."
   ]
  },
  {
   "cell_type": "code",
   "execution_count": 1,
   "id": "b21152e8",
   "metadata": {},
   "outputs": [],
   "source": [
    "def pig(word):\n",
    "    vowels = ('a', 'e', 'i', 'o', 'u') # defines the tuple vowels\n",
    "    lower_word=word.lower()            # lower_word is the lowercase of word   \n",
    "    if(lower_word[0] not in vowels ):  # tests if word starts with a consonant\n",
    "        dummy_word=lower_word[1:] + lower_word[0]+ 'ay' # dummy_word is built starting with the second char\n",
    "    else:                                               # of lower_word and firt char is appended and 'ay'\n",
    "        dummy_word=lower_word + 'way'\n",
    "        \n",
    "    return dummy_word    "
   ]
  },
  {
   "cell_type": "code",
   "execution_count": 2,
   "id": "c96f1e68",
   "metadata": {},
   "outputs": [
    {
     "data": {
      "text/plain": [
       "'appyhay'"
      ]
     },
     "execution_count": 2,
     "metadata": {},
     "output_type": "execute_result"
    }
   ],
   "source": [
    "pig('happy')"
   ]
  },
  {
   "cell_type": "code",
   "execution_count": 3,
   "id": "53996dfa",
   "metadata": {},
   "outputs": [
    {
     "data": {
      "text/plain": [
       "'enterway'"
      ]
     },
     "execution_count": 3,
     "metadata": {},
     "output_type": "execute_result"
    }
   ],
   "source": [
    "pig('Enter')"
   ]
  },
  {
   "cell_type": "markdown",
   "id": "3ed26ee6",
   "metadata": {},
   "source": [
    "<h3><font color='#004b87'>Question 7</font></h3>\n",
    "<p></p>\n",
    "\n",
    "File __[bloodtype1.txt](https://gc.blackboard.com/bbcswebdav/pid-6433302-dt-content-rid-43442960_1/xid-43442960_1)__  records blood-types of patients (A, B, AB, O or OO) at a clinic.\n",
    "Write a function bldcount() that reads the file with name name and reports (i.e.,\n",
    "prints) how many patients there are in each bloodtype."
   ]
  },
  {
   "cell_type": "code",
   "execution_count": 8,
   "id": "c90b4292",
   "metadata": {},
   "outputs": [],
   "source": [
    "def bldcount(name):\n",
    "\n",
    "    infile = open(name)           #file with name \"name\" is opened\n",
    "    content = infile.read()       #file is read and saved to content\n",
    "    infile.close()                #file is closed\n",
    "    wordList = content.split()\n",
    "    num_A = wordList.count('A')\n",
    "    num_B = wordList.count('B')\n",
    "    num_AB = wordList.count('AB')\n",
    "    num_O = wordList.count('O')\n",
    "    num_OO = wordList.count('OO')\n",
    "    \n",
    "    print('There are','{:d}'.format(num_A), 'patients of blood type A')\n",
    "    print('There are','{:d}'.format(num_B), 'patients of blood type B')\n",
    "    print('There are','{:d}'.format(num_AB), 'patients of blood type AB')\n",
    "    print('There are','{:d}'.format(num_O), 'patients of blood type O')    \n",
    "    print('There are','{:d}'.format(num_OO), 'patients of blood type OO') "
   ]
  },
  {
   "cell_type": "code",
   "execution_count": 9,
   "id": "c726dfee",
   "metadata": {},
   "outputs": [
    {
     "name": "stdout",
     "output_type": "stream",
     "text": [
      "There are 15 patients of blood type A\n",
      "There are 1 patients of blood type B\n",
      "There are 13 patients of blood type AB\n",
      "There are 15 patients of blood type O\n",
      "There are 0 patients of blood type OO\n"
     ]
    }
   ],
   "source": [
    "bldcount('bloodtype1.txt')"
   ]
  },
  {
   "cell_type": "markdown",
   "id": "ad7be16b",
   "metadata": {},
   "source": [
    "<h3><font color='#004b87'>Question 8</font></h3>\n",
    "<p></p>\n",
    "Write a function curconv() that takes as input:\n",
    "\n",
    "      1. a currency represented using a string (e.g., 'JPY' for the Japanese Yen or 'EUR' for the Euro) \\\n",
    "      2. an amount \n",
    "and then converts and returns the amount in US dollars."
   ]
  },
  {
   "cell_type": "code",
   "execution_count": 1,
   "id": "2f62d0e9",
   "metadata": {},
   "outputs": [],
   "source": [
    "def curconv(abbr,number):\n",
    "\n",
    "    infile = open('currencies.txt')  #file \"currencies.txt\" is opened\n",
    "    linesFile = infile.readlines()   # it is read all the lines of the file\n",
    "    infile.close()                   # file is closed\n",
    "    \n",
    "    for i in range(0, len(linesFile)): #goes from 0 to the number of lines of the file\n",
    "        words_line = []                #creates an empty list\n",
    "        words_line=linesFile[i].split()#words_line is a list of substrings of linesFile[i], delimited by sep\n",
    "        if (words_line[0] == abbr):    #tests if the first string of word_line is equal to abbr\n",
    "            result = number*float(words_line[1]) #casting of words_line to convert the string number to a float\n",
    "                \n",
    "    return result     "
   ]
  },
  {
   "cell_type": "code",
   "execution_count": 2,
   "id": "1f7a0626",
   "metadata": {},
   "outputs": [
    {
     "data": {
      "text/plain": [
       "122.96544"
      ]
     },
     "execution_count": 2,
     "metadata": {},
     "output_type": "execute_result"
    }
   ],
   "source": [
    "curconv('EUR',100)"
   ]
  },
  {
   "cell_type": "code",
   "execution_count": 3,
   "id": "a2d35819",
   "metadata": {},
   "outputs": [
    {
     "data": {
      "text/plain": [
       "1.241401"
      ]
     },
     "execution_count": 3,
     "metadata": {},
     "output_type": "execute_result"
    }
   ],
   "source": [
    "curconv('JPY',100)"
   ]
  },
  {
   "cell_type": "markdown",
   "id": "1ac8ec57",
   "metadata": {},
   "source": [
    "<h3><font color='#004b87'>Question 9</font></h3>\n",
    "<p></p>\n",
    "Each of the following will cause an exception (an error). Identify what type of\n",
    "exception each will cause."
   ]
  },
  {
   "cell_type": "markdown",
   "id": "5b650ec7",
   "metadata": {},
   "source": [
    "Trying to add incompatible variables, as inadding 6 + 'a'"
   ]
  },
  {
   "cell_type": "code",
   "execution_count": 18,
   "id": "b23236dd",
   "metadata": {},
   "outputs": [
    {
     "ename": "TypeError",
     "evalue": "unsupported operand type(s) for +: 'int' and 'str'",
     "output_type": "error",
     "traceback": [
      "\u001b[0;31m---------------------------------------------------------------------------\u001b[0m",
      "\u001b[0;31mTypeError\u001b[0m                                 Traceback (most recent call last)",
      "\u001b[0;32m/tmp/ipykernel_16088/55046823.py\u001b[0m in \u001b[0;36m<module>\u001b[0;34m\u001b[0m\n\u001b[0;32m----> 1\u001b[0;31m \u001b[0;36m6\u001b[0m \u001b[0;34m+\u001b[0m \u001b[0;34m'a'\u001b[0m\u001b[0;34m\u001b[0m\u001b[0;34m\u001b[0m\u001b[0m\n\u001b[0m",
      "\u001b[0;31mTypeError\u001b[0m: unsupported operand type(s) for +: 'int' and 'str'"
     ]
    }
   ],
   "source": [
    "6 + 'a'"
   ]
  },
  {
   "cell_type": "markdown",
   "id": "63c9ffcc",
   "metadata": {},
   "source": [
    "The above error corresponds to aerroneous state error "
   ]
  },
  {
   "cell_type": "markdown",
   "id": "c2cb6c26",
   "metadata": {},
   "source": [
    "Referring to the 12 th item of a list that has only 10 items"
   ]
  },
  {
   "cell_type": "code",
   "execution_count": 19,
   "id": "a0160475",
   "metadata": {},
   "outputs": [
    {
     "ename": "IndexError",
     "evalue": "string index out of range",
     "output_type": "error",
     "traceback": [
      "\u001b[0;31m---------------------------------------------------------------------------\u001b[0m",
      "\u001b[0;31mIndexError\u001b[0m                                Traceback (most recent call last)",
      "\u001b[0;32m/tmp/ipykernel_16088/3288869432.py\u001b[0m in \u001b[0;36m<module>\u001b[0;34m\u001b[0m\n\u001b[1;32m      1\u001b[0m \u001b[0ms\u001b[0m \u001b[0;34m=\u001b[0m \u001b[0;34m'comadrejas'\u001b[0m\u001b[0;34m\u001b[0m\u001b[0;34m\u001b[0m\u001b[0m\n\u001b[0;32m----> 2\u001b[0;31m \u001b[0ms\u001b[0m\u001b[0;34m[\u001b[0m\u001b[0;36m11\u001b[0m\u001b[0;34m]\u001b[0m\u001b[0;34m\u001b[0m\u001b[0;34m\u001b[0m\u001b[0m\n\u001b[0m",
      "\u001b[0;31mIndexError\u001b[0m: string index out of range"
     ]
    }
   ],
   "source": [
    "s = 'comadrejas'\n",
    "s[11]"
   ]
  },
  {
   "cell_type": "markdown",
   "id": "9a7b40cb",
   "metadata": {},
   "source": [
    "The above error corresponds to aerroneous state error"
   ]
  },
  {
   "cell_type": "code",
   "execution_count": null,
   "id": "acea14c6",
   "metadata": {},
   "outputs": [],
   "source": []
  },
  {
   "cell_type": "code",
   "execution_count": 20,
   "id": "2cc135e5",
   "metadata": {},
   "outputs": [
    {
     "ename": "ValueError",
     "evalue": "math domain error",
     "output_type": "error",
     "traceback": [
      "\u001b[0;31m---------------------------------------------------------------------------\u001b[0m",
      "\u001b[0;31mValueError\u001b[0m                                Traceback (most recent call last)",
      "\u001b[0;32m/tmp/ipykernel_16088/1114391229.py\u001b[0m in \u001b[0;36m<module>\u001b[0;34m\u001b[0m\n\u001b[1;32m      1\u001b[0m \u001b[0;32mimport\u001b[0m \u001b[0mmath\u001b[0m\u001b[0;34m\u001b[0m\u001b[0;34m\u001b[0m\u001b[0m\n\u001b[0;32m----> 2\u001b[0;31m \u001b[0mmath\u001b[0m\u001b[0;34m.\u001b[0m\u001b[0msqrt\u001b[0m\u001b[0;34m(\u001b[0m\u001b[0;34m-\u001b[0m\u001b[0;36m1.0\u001b[0m\u001b[0;34m)\u001b[0m\u001b[0;34m\u001b[0m\u001b[0;34m\u001b[0m\u001b[0m\n\u001b[0m",
      "\u001b[0;31mValueError\u001b[0m: math domain error"
     ]
    }
   ],
   "source": [
    "import math\n",
    "math.sqrt(-1.0)"
   ]
  },
  {
   "cell_type": "code",
   "execution_count": 21,
   "id": "739e7042",
   "metadata": {},
   "outputs": [
    {
     "ename": "NameError",
     "evalue": "name 'x' is not defined",
     "output_type": "error",
     "traceback": [
      "\u001b[0;31m---------------------------------------------------------------------------\u001b[0m",
      "\u001b[0;31mNameError\u001b[0m                                 Traceback (most recent call last)",
      "\u001b[0;32m/tmp/ipykernel_16088/1353120783.py\u001b[0m in \u001b[0;36m<module>\u001b[0;34m\u001b[0m\n\u001b[0;32m----> 1\u001b[0;31m \u001b[0mprint\u001b[0m\u001b[0;34m(\u001b[0m\u001b[0mx\u001b[0m\u001b[0;34m)\u001b[0m\u001b[0;34m\u001b[0m\u001b[0;34m\u001b[0m\u001b[0m\n\u001b[0m",
      "\u001b[0;31mNameError\u001b[0m: name 'x' is not defined"
     ]
    }
   ],
   "source": [
    "print(x)"
   ]
  },
  {
   "cell_type": "code",
   "execution_count": 23,
   "id": "464eb222",
   "metadata": {},
   "outputs": [
    {
     "ename": "FileNotFoundError",
     "evalue": "[Errno 2] No such file or directory: 'curencies.txt'",
     "output_type": "error",
     "traceback": [
      "\u001b[0;31m---------------------------------------------------------------------------\u001b[0m",
      "\u001b[0;31mFileNotFoundError\u001b[0m                         Traceback (most recent call last)",
      "\u001b[0;32m/tmp/ipykernel_16088/2897302161.py\u001b[0m in \u001b[0;36m<module>\u001b[0;34m\u001b[0m\n\u001b[0;32m----> 1\u001b[0;31m \u001b[0minfile\u001b[0m \u001b[0;34m=\u001b[0m \u001b[0mopen\u001b[0m\u001b[0;34m(\u001b[0m\u001b[0;34m'curencies.txt'\u001b[0m\u001b[0;34m)\u001b[0m\u001b[0;34m\u001b[0m\u001b[0;34m\u001b[0m\u001b[0m\n\u001b[0m",
      "\u001b[0;31mFileNotFoundError\u001b[0m: [Errno 2] No such file or directory: 'curencies.txt'"
     ]
    }
   ],
   "source": [
    "infile = open('curencies.txt')"
   ]
  },
  {
   "cell_type": "code",
   "execution_count": 24,
   "id": "f6de7f20",
   "metadata": {},
   "outputs": [
    {
     "ename": "FileNotFoundError",
     "evalue": "[Errno 2] No such file or directory: 'example.txt'",
     "output_type": "error",
     "traceback": [
      "\u001b[0;31m---------------------------------------------------------------------------\u001b[0m",
      "\u001b[0;31mFileNotFoundError\u001b[0m                         Traceback (most recent call last)",
      "\u001b[0;32m/tmp/ipykernel_16088/2111248471.py\u001b[0m in \u001b[0;36m<module>\u001b[0;34m\u001b[0m\n\u001b[0;32m----> 1\u001b[0;31m \u001b[0minfile\u001b[0m \u001b[0;34m=\u001b[0m \u001b[0mopen\u001b[0m\u001b[0;34m(\u001b[0m\u001b[0;34m'example.txt'\u001b[0m\u001b[0;34m)\u001b[0m\u001b[0;34m\u001b[0m\u001b[0;34m\u001b[0m\u001b[0m\n\u001b[0m",
      "\u001b[0;31mFileNotFoundError\u001b[0m: [Errno 2] No such file or directory: 'example.txt'"
     ]
    }
   ],
   "source": [
    "infile = open('example.txt')"
   ]
  },
  {
   "cell_type": "markdown",
   "id": "2dce647f",
   "metadata": {},
   "source": [
    "<h3><font color='#004b87'>Question 10</font></h3>\n",
    "<p></p>\n",
    "\n",
    "*Encryption* is the process of hiding the meaning of a text by substituting letters in the message with other letters, according to some system. If the process is successful, no one but the intended recipient can understand the encrypted message. *Cryptanalysis* refers to attempts to undo the encryption, even if some details of the encryption are unknown (for example, if an encrypted message has been intercepted). The first step of cryptanalysis is often to build up a table of letter frequencies in the encrypted text. Assume that the string letters is already defined as 'abcdefghijklmnopqrstuvwxyz'. Write a function called frequencies() that takes a string as its only parameter, and returns a list of integers, showing the number of times each character appears in the text. Your function may ignore any characters that are not in letters."
   ]
  },
  {
   "cell_type": "code",
   "execution_count": 1,
   "id": "aeaecb01",
   "metadata": {},
   "outputs": [],
   "source": [
    "def frequencies(wordSentence):\n",
    "\n",
    "    alphabet = 'abcdefghijklmnopqrstuvwxyz' #alphabet is equal to the string 'abc...'\n",
    "    dummy_lst= wordSentence.split()         #returns list \"dummy_lst\" of substrings of alphabet delim by sep\n",
    "    lst = [0]*len(alphabet)                 # creates a list of zeros of the alphabet's size\n",
    "    for i in range(0, len(alphabet)):       #goes from 0 to the number of letters of the alphabet\n",
    "        for word in dummy_lst:              # it goes through each word in the list dummy lst\n",
    "            if alphabet[i] in word:         # tests if the char i-th of alphabet is in word\n",
    "                lst[i]=lst[i] + word.count(alphabet[i])  # returns the number of occurences of alphabet[i] in  \n",
    "                                                         # word\n",
    "    return lst             "
   ]
  },
  {
   "cell_type": "code",
   "execution_count": 2,
   "id": "28e6c8b5",
   "metadata": {},
   "outputs": [
    {
     "data": {
      "text/plain": [
       "[1, 1, 1, 3, 5, 1, 1, 2, 1, 0, 1, 0, 1, 2, 4, 0, 1, 2, 0, 2, 1, 0, 1, 1, 0, 0]"
      ]
     },
     "execution_count": 2,
     "metadata": {},
     "output_type": "execute_result"
    }
   ],
   "source": [
    "frequencies('The quick red fox got bored and went home.')"
   ]
  },
  {
   "cell_type": "code",
   "execution_count": 3,
   "id": "7b927b95",
   "metadata": {},
   "outputs": [
    {
     "data": {
      "text/plain": [
       "[1, 0, 0, 0, 1, 0, 0, 0, 0, 0, 0, 1, 0, 0, 0, 2, 0, 0, 0, 0, 0, 0, 0, 0, 0, 0]"
      ]
     },
     "execution_count": 3,
     "metadata": {},
     "output_type": "execute_result"
    }
   ],
   "source": [
    "frequencies('apple')"
   ]
  },
  {
   "cell_type": "code",
   "execution_count": null,
   "id": "2064d0a4",
   "metadata": {},
   "outputs": [],
   "source": []
  }
 ],
 "metadata": {
  "kernelspec": {
   "display_name": "Python 3 (ipykernel)",
   "language": "python",
   "name": "python3"
  },
  "language_info": {
   "codemirror_mode": {
    "name": "ipython",
    "version": 3
   },
   "file_extension": ".py",
   "mimetype": "text/x-python",
   "name": "python",
   "nbconvert_exporter": "python",
   "pygments_lexer": "ipython3",
   "version": "3.8.11"
  }
 },
 "nbformat": 4,
 "nbformat_minor": 5
}
