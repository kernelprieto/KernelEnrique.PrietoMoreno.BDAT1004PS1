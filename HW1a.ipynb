{
 "cells": [
  {
   "cell_type": "markdown",
   "id": "17296f00",
   "metadata": {},
   "source": [
    "This notebook contains the C# problems, i.e., 1-5"
   ]
  },
  {
   "cell_type": "markdown",
   "id": "b22bb97f",
   "metadata": {},
   "source": [
    "<h3><font color='#004b87'>Question 1 </font></h3>  \n",
    "\n",
    "    What data type is each of the following?"
   ]
  },
  {
   "cell_type": "markdown",
   "id": "1d877ce2",
   "metadata": {},
   "source": [
    "<h3><font color='#004b87'>Answer</font></h3>\n",
    "<p></p>\n",
    "\n",
    "\n",
    "| Example      | Type                 |                         \n",
    "| :---          |-----------------:   |          \n",
    "| 5             | integer             |        \n",
    "| 5.0           | float               |  \n",
    "| '5'           | string              |  \n",
    "| 5*2           | integer             |  \n",
    "| '5' + '2'     | string              |  \n",
    "| 5/2           | float               |  \n",
    "| 5 % 2         | integer             |  \n",
    "| {5,2,1}       | list                |  \n",
    "| 5 == 3        | bolean              |  \n",
    "| Pi            | Decimal             | "
   ]
  },
  {
   "cell_type": "markdown",
   "id": "b7214002",
   "metadata": {},
   "source": [
    "<h3><font color='#004b87'>Question 2 </font></h3>  \n",
    "\n",
    "    a. How many letters are there in 'Supercalifragilisticexpialidocious'? "
   ]
  },
  {
   "cell_type": "code",
   "execution_count": 17,
   "id": "f15a8709",
   "metadata": {},
   "outputs": [
    {
     "name": "stdout",
     "output_type": "stream",
     "text": [
      "34\n"
     ]
    }
   ],
   "source": [
    "string str=\"Supercalifragilisticexpialidocious\";\n",
    "char[] arr = str.ToCharArray();\n",
    "Console.WriteLine( arr.Length );"
   ]
  },
  {
   "cell_type": "markdown",
   "id": "fde84d10",
   "metadata": {},
   "source": [
    "    b. Does 'Supercalifragilisticexpialidocious' contain 'ice' as a substring? "
   ]
  },
  {
   "cell_type": "code",
   "execution_count": 119,
   "id": "91524fe5",
   "metadata": {},
   "outputs": [
    {
     "name": "stdout",
     "output_type": "stream",
     "text": [
      "True\n"
     ]
    }
   ],
   "source": [
    "string str=\"Supercalifragilisticexpialidocious\";\n",
    "string substr = \"ice\";\n",
    "Console.WriteLine(str.Contains(substr));"
   ]
  },
  {
   "cell_type": "markdown",
   "id": "be917da1",
   "metadata": {},
   "source": [
    "    c. Which of the following words is the longest:\n",
    "       Supercalifragilisticexpialidocious, Honorificabilitudinitatibus, or\n",
    "       Bababadalgharaghtakamminarronnkonn?"
   ]
  },
  {
   "cell_type": "code",
   "execution_count": 126,
   "id": "741cdefe",
   "metadata": {},
   "outputs": [
    {
     "name": "stdout",
     "output_type": "stream",
     "text": [
      "34 \n",
      "27 \n",
      "34"
     ]
    }
   ],
   "source": [
    "string str1=\"Supercalifragilisticexpialidocious\";\n",
    "char[] arr1 = str1.ToCharArray();\n",
    "Console.Write( arr1.Length  );\n",
    "Console.WriteLine(\" \");\n",
    "\n",
    "string str2=\"Honorificabilitudinitatibus\";\n",
    "char[] arr2 = str2.ToCharArray();\n",
    "Console.Write( arr2.Length );\n",
    "Console.WriteLine(\" \");\n",
    "\n",
    "string str3=\"Bababadalgharaghtakamminarronnkonn\";\n",
    "char[] arr3 = str3.ToCharArray();\n",
    "Console.Write( arr3.Length );"
   ]
  },
  {
   "cell_type": "markdown",
   "id": "1e037574",
   "metadata": {},
   "source": [
    "Thus, the words Supercalifragilisticexpialidocious and Bababadalgharaghtakamminarronnkonn contain the same number of letters"
   ]
  },
  {
   "cell_type": "markdown",
   "id": "246f1b27",
   "metadata": {},
   "source": [
    "    d. Which composer comes first in the dictionary: 'Berlioz', 'Borodin', 'Brian',\n",
    "    'Bartok', 'Bellini', 'Buxtehude', 'Bernstein'. Which one comes last?"
   ]
  },
  {
   "cell_type": "code",
   "execution_count": 130,
   "id": "7e2c525d",
   "metadata": {},
   "outputs": [
    {
     "name": "stdout",
     "output_type": "stream",
     "text": [
      "Bartok\n",
      "Bellini\n",
      "Berlioz\n",
      "Bernstein\n",
      "Borodin\n",
      "Brian\n",
      "Buxtehude\n"
     ]
    }
   ],
   "source": [
    "          var names = new SortedSet<string>();\n",
    "          names.Add(\"Berlioz\");\n",
    "          names.Add(\"Borodin\");\n",
    "          names.Add(\"Brian\");\n",
    "          names.Add(\"Bartok\");\n",
    "          names.Add(\"Bellini\");\n",
    "          names.Add(\"Buxtehude\");\n",
    "          names.Add(\"Bernstein\");          \n",
    "          foreach (var name in names)\n",
    "          {\n",
    "               Console.WriteLine(name);\n",
    "          }"
   ]
  },
  {
   "cell_type": "code",
   "execution_count": 128,
   "id": "0fc51969",
   "metadata": {},
   "outputs": [
    {
     "name": "stdout",
     "output_type": "stream",
     "text": [
      "1 Vidya\n",
      "2 Vishal\n",
      "3 Arun\n",
      "4 Pallavi\n",
      "5 Ramesh\n"
     ]
    }
   ],
   "source": [
    "SortedDictionary<string, string> names = new SortedDictionary<string, string>(); \n",
    "           names.Add(\"3\", \"Arun\"); \n",
    "           names.Add(\"2\", \"Vishal\");\n",
    "           names.Add(\"5\", \"Ramesh\");\n",
    "           names.Add(\"1\", \"Vidya\"); \n",
    "           names.Add(\"4\", \"Pallavi\");\n",
    "           foreach (KeyValuePair<string, string> kv in names)\n",
    "           {\n",
    "                 Console.WriteLine(kv.Key + \" \" + kv.Value);\n",
    "           }"
   ]
  },
  {
   "cell_type": "markdown",
   "id": "1660d452",
   "metadata": {},
   "source": [
    "<h3><font color='#004b87'>Question 3 </font></h3>  \n",
    "\n",
    "Implement function triangleArea(a,b,c) that takes as input the lengths of the 3\n",
    "sides of a triangle and returns the area of the triangle. By Heron's formula, the area\n",
    "of a triangle with side lengths a, b, and c is $\\sqrt{ s(s - a)(s - b)(s - c)}$ , where\n",
    "$s = (a + b + c) /2 $."
   ]
  },
  {
   "cell_type": "code",
   "execution_count": 138,
   "id": "c199e764",
   "metadata": {},
   "outputs": [
    {
     "name": "stdout",
     "output_type": "stream",
     "text": [
      "1.7320508075688772\n"
     ]
    }
   ],
   "source": [
    "double triangleArea(double a, double b, double c)\n",
    "{\n",
    "    double s    = (a + b + c)/2;                     // defines s\n",
    "    double area= Math.Sqrt(s*(s - a)*(s-b)*(s-c) );  // area's formula\n",
    "    return area;\n",
    "}\n",
    "Console.WriteLine( triangleArea(2, 2,2) );"
   ]
  },
  {
   "cell_type": "markdown",
   "id": "02e75581",
   "metadata": {},
   "source": [
    "<h3><font color='#004b87'>Question 4 </font></h3>  \n",
    "\n",
    "Write a program in C# Sharp to separate odd and even integers in separate arrays.\n",
    "\n",
    "Go to the editor\n",
    "\n",
    "Test Data :\n",
    "\n",
    "Input the number of elements to be stored in the array :5\n",
    "\n",
    "Input 5 elements in the array :\n",
    "element - 0 : 25 \n",
    "\n",
    "element - 1 : 47\n",
    "\n",
    "element - 2 : 42\n",
    "\n",
    "element - 3 : 56\n",
    "\n",
    "element - 4 : 32"
   ]
  },
  {
   "cell_type": "code",
   "execution_count": null,
   "id": "e45c9887",
   "metadata": {
    "slideshow": {
     "slide_type": "slide"
    }
   },
   "outputs": [
    {
     "name": "stdout",
     "output_type": "stream",
     "text": [
      "25\n",
      "47\n",
      "42\n",
      "56\n",
      "32\n"
     ]
    }
   ],
   "source": [
    "var names = new List<string>();\n",
    "           names.Add(\"Sandhya\");\n",
    "int[] arr = new int[5];        \n",
    "        arr[0] = 25;\n",
    "        arr[1] = 47;\n",
    "        arr[2] = 42;\n",
    "        arr[3] = 56;\n",
    "        arr[4] = 32;\n",
    "        for (int i = 0; i < arr.Length; i++)\n",
    "        {\n",
    "            Console.WriteLine(arr[i]);\n",
    "        }"
   ]
  },
  {
   "cell_type": "markdown",
   "id": "bd0841e5",
   "metadata": {},
   "source": [
    "<h3><font color='#004b87'>Question 5 </font></h3>  \n",
    "\n",
    "    a. Write a function inside(x,y,x1,y1,x2,y2) that returns True or False\n",
    "    depending on whether the point (x,y) lies in the rectangle with lower left\n",
    "    corner (x1,y1) and upper right corner (x2,y2)."
   ]
  },
  {
   "cell_type": "code",
   "execution_count": 13,
   "id": "d7d22f83",
   "metadata": {},
   "outputs": [],
   "source": [
    "bool inside(double x, double y, double x1, double y1, double x2, double y2)\n",
    "{\n",
    "    bool dummy;\n",
    "    \n",
    "    if( ( (x < x2) && (x > x1) ) && ( (y < y2) && (y > y1) )   ) // tests if (x,y) is inside the rectangle\n",
    "    {\n",
    "    dummy = true;\n",
    "    }\n",
    "    else\n",
    "    {\n",
    "    dummy = false;\n",
    "    }\n",
    "\n",
    "    return dummy;\n",
    "}"
   ]
  },
  {
   "cell_type": "code",
   "execution_count": 14,
   "id": "ad3006b0",
   "metadata": {},
   "outputs": [
    {
     "name": "stdout",
     "output_type": "stream",
     "text": [
      "True\n"
     ]
    }
   ],
   "source": [
    "Console.WriteLine( inside(1,1,0,0,2,3) );"
   ]
  },
  {
   "cell_type": "code",
   "execution_count": 15,
   "id": "8f4b35b7",
   "metadata": {},
   "outputs": [
    {
     "name": "stdout",
     "output_type": "stream",
     "text": [
      "False\n"
     ]
    }
   ],
   "source": [
    "Console.WriteLine( inside(-1,-1,0,0,2,3) );"
   ]
  },
  {
   "cell_type": "markdown",
   "id": "7addfb7b",
   "metadata": {},
   "source": [
    "<h3><font color='#004b87'>Question 5 </font></h3>  \n",
    "\n",
    "    b. Write a function inside(x,y,x1,y1,x2,y2) that returns True or False\n",
    "    depending on whether the point (x,y) lies in the rectangle with lower left\n",
    "    corner (x1,y1) and upper right corner (x2,y2)."
   ]
  },
  {
   "cell_type": "code",
   "execution_count": 16,
   "id": "e9844cd8",
   "metadata": {},
   "outputs": [
    {
     "name": "stdout",
     "output_type": "stream",
     "text": [
      "The point (1,1) does not lie in the intersection of both rectangles\n"
     ]
    }
   ],
   "source": [
    "// tests if (1,1) is inside of both rectangles\n",
    "if( (inside(1,1,0.3,0.5,1.1,0.7) == true) && (inside(1,1,0.5,0.2,1.1,2) == true) )\n",
    "{\n",
    "Console.WriteLine(\"The point (1,1) lies in the intersection of both rectangles\");  \n",
    "}\n",
    "else\n",
    "{\n",
    "Console.WriteLine(\"The point (1,1) does not lie in the intersection of both rectangles\");\n",
    "}"
   ]
  },
  {
   "cell_type": "code",
   "execution_count": null,
   "id": "37600e16",
   "metadata": {},
   "outputs": [],
   "source": []
  }
 ],
 "metadata": {
  "kernelspec": {
   "display_name": ".NET (C#)",
   "language": "C#",
   "name": ".net-csharp"
  },
  "language_info": {
   "file_extension": ".cs",
   "mimetype": "text/x-csharp",
   "name": "C#",
   "pygments_lexer": "csharp",
   "version": "8.0"
  }
 },
 "nbformat": 4,
 "nbformat_minor": 5
}
